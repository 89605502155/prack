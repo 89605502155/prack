{
 "cells": [
  {
   "cell_type": "markdown",
   "metadata": {},
   "source": [
    "# Студенческий модуль\n",
    "\n",
    "Этот набор кода выполнит за Вас тяжёлую работу по считыванию файлов заданий и расчёту регрессионных моделей, оставив Вам самую лёгкую часть: выбор гиперпараметров и интерпретацию результатов. Запускайте ячейки по очереди."
   ]
  },
  {
   "cell_type": "code",
   "execution_count": null,
   "metadata": {},
   "outputs": [],
   "source": [
    "# Если следующие строки выполняются с ошибками, проверяйте, как Вы ставили sklearn и Jupyter.\n",
    "import numpy as np\n",
    "from sklearn.cross_decomposition import PLSRegression\n",
    "from sklearn.model_selection import GridSearchCV\n",
    "import matplotlib.pyplot as plt"
   ]
  },
  {
   "cell_type": "code",
   "execution_count": null,
   "metadata": {},
   "outputs": [],
   "source": [
    "# Пожалуйста, положите выданные Вам файлы рядом с этим файлом и укажите ниже их имена:\n",
    "X_train = np.loadtxt('train_X_03.txt')\n",
    "y_train = np.loadtxt('train_y_03.txt')\n",
    "X_test = np.loadtxt('test_X_03.txt')\n",
    "# Если при выполнении этой ячейки происходит OSError, убедитесь, что файлы лежат в той же папке,\n",
    "# а также что Вы вводите их имена правильно."
   ]
  },
  {
   "cell_type": "code",
   "execution_count": null,
   "metadata": {},
   "outputs": [],
   "source": [
    "# Попробуем нарисовать все спектры, чтобы посмотреть, с каким набором данных мы имеем дело\n",
    "plt.plot(X_train.T); plt.show()"
   ]
  },
  {
   "cell_type": "code",
   "execution_count": null,
   "metadata": {},
   "outputs": [],
   "source": [
    "# Теоретически, максимальное возможное количество компонентов равно наименьшей\n",
    "# из размерностей матрицы спектров, но мы начнём с меньшего их количества.\n",
    "max_ncomp = 16\n",
    "\n",
    "# Рассчитаем среднеквадратическую ошибку при перекрёстной проверке \n",
    "# индивидуально для каждого компонента\n",
    "cv = [\n",
    "    GridSearchCV(\n",
    "        PLSRegression(scale = False),\n",
    "        {'n_components': list(range(1, max_ncomp+1))},\n",
    "        scoring = 'neg_root_mean_squared_error',\n",
    "        return_train_score = True,\n",
    "        cv=5\n",
    "    ).fit(X_train, y_train[:,i])\n",
    "    for i in range(y_train.shape[1])\n",
    "]\n",
    "# Извлечём результаты и сохраним их в виде матриц\n",
    "ncomps = np.array([\n",
    "    [p['n_components'] for p in v.cv_results_['params']] for v in cv\n",
    "]).T\n",
    "RMSEP = np.array([\n",
    "    -v.cv_results_['mean_train_score'] for v in cv\n",
    "]).T\n",
    "RMSECV = np.array([\n",
    "    -v.cv_results_['mean_test_score'] for v in cv\n",
    "]).T"
   ]
  },
  {
   "cell_type": "code",
   "execution_count": null,
   "metadata": {},
   "outputs": [],
   "source": [
    "plt.subplot(1, 2, 1); plt.plot(ncomps, RMSEP);\n",
    "plt.subplot(1, 2, 2); plt.plot(ncomps, RMSECV); plt.legend(list(range(1, y_train.shape[1]+1))); plt.show()"
   ]
  },
  {
   "cell_type": "code",
   "execution_count": null,
   "metadata": {},
   "outputs": [],
   "source": [
    "# Для столбцов [1, 2, 3, 4, 5] я выбираю ... компонент:\n",
    "# Замените 1 на число компонент.\n",
    "n_comps = (1, 1, 1, 1, 1)"
   ]
  },
  {
   "cell_type": "markdown",
   "metadata": {},
   "source": [
    "Обучим модели с выбранными количествами компонент, а также нарисуем графики весов PLS (матрицы $\\mathbf{W}$):"
   ]
  },
  {
   "cell_type": "code",
   "execution_count": null,
   "metadata": {},
   "outputs": [],
   "source": [
    "models = []\n",
    "for i in range(len(n_comps)):\n",
    "    m = PLSRegression(\n",
    "        n_components = n_comps[i], scale = False\n",
    "    ).fit(X_train, y_train[:,i])\n",
    "    models.append(m)\n",
    "    plt.subplot(1, len(n_comps), i+1)\n",
    "    plt.plot(m.x_weights_)\n",
    "plt.show()\n",
    "    \n",
    "predictions = []\n",
    "for i in range(len(n_comps)):\n",
    "    predictions.append(models[i].predict(X_test)[:,0])\n",
    "\n",
    "np.savetxt('y_test.txt', np.array(predictions).T)"
   ]
  },
  {
   "cell_type": "markdown",
   "metadata": {},
   "source": [
    "Если Вы дошли до этого момента, у Вас должен был получиться файл с предсказанными концентрациями, `y_test.txt`. Отправьте его на <mailto:ikrylov@laser.chem.msu.ru>. Туда же пришлите графики матриц весов и объяснения, почему Вы считаете, что данные количества компонент являются оптимальными.\n",
    "\n",
    "Если что-то не получается, пожалуйста, обращайтесь на тот же адрес, я отвечу."
   ]
  }
 ],
 "metadata": {
  "kernelspec": {
   "display_name": "Python 3",
   "language": "python",
   "name": "python3"
  },
  "language_info": {
   "codemirror_mode": {
    "name": "ipython",
    "version": 3
   },
   "file_extension": ".py",
   "mimetype": "text/x-python",
   "name": "python",
   "nbconvert_exporter": "python",
   "pygments_lexer": "ipython3",
   "version": "3.7.3"
  }
 },
 "nbformat": 4,
 "nbformat_minor": 2
}
